{
 "cells": [
  {
   "cell_type": "code",
   "execution_count": 3,
   "metadata": {},
   "outputs": [],
   "source": [
    "# Set working directory to C:\\temp\n",
    "\n",
    "import os\n",
    "os.chdir('C:\\\\temp')"
   ]
  },
  {
   "cell_type": "code",
   "execution_count": 4,
   "metadata": {},
   "outputs": [
    {
     "data": {
      "text/plain": [
       "['ammehjelpen_chroma_db.zip',\n",
       " 'anton_sport_chroma_db.zip',\n",
       " 'coursera',\n",
       " 'docker_volume',\n",
       " 'get-pip.py',\n",
       " 'key',\n",
       " 'key.pub',\n",
       " 'loplabbet.zip',\n",
       " 'lovdata_chroma_db.zip',\n",
       " 'Playground - OpenAI API.html',\n",
       " 'Playground - OpenAI API_files',\n",
       " 'tfserving',\n",
       " 'verification']"
      ]
     },
     "execution_count": 4,
     "metadata": {},
     "output_type": "execute_result"
    }
   ],
   "source": [
    "# LIst files in working directory\n",
    "os.listdir()"
   ]
  },
  {
   "cell_type": "code",
   "execution_count": 5,
   "metadata": {},
   "outputs": [],
   "source": [
    "import zipfile\n",
    "from langchain.vectorstores import Chroma\n",
    "\n",
    "file_path = 'test_chroma_db.zip'"
   ]
  },
  {
   "cell_type": "code",
   "execution_count": 12,
   "metadata": {},
   "outputs": [],
   "source": [
    "with zipfile.ZipFile(file_path, 'r') as zip_ref:\n",
    "        temp_extract_dir = \"verification\"  # Replace with your desired directory\n",
    "        # remove .zip from file_path\n",
    "        file_path = file_path[:-4]\n",
    "        zip_ref.extractall(temp_extract_dir)\n",
    "        db_dir = os.path.join(temp_extract_dir, file_path)\n",
    "        db3 = Chroma(persist_directory=db_dir)\n",
    "        ids = db3.get()\n",
    "        ids['ids'][0]\n",
    "        metadata = db3.get(ids['ids'][0])['metadatas']\n",
    "        metadatakeys = metadata[0].keys()\n"
   ]
  },
  {
   "cell_type": "code",
   "execution_count": 8,
   "metadata": {},
   "outputs": [],
   "source": [
    "def verify_chroma_db(file_path):\n",
    "    # Extract the file\n",
    "    with zipfile.ZipFile(file_path, 'r') as zip_ref:\n",
    "        temp_extract_dir = \"verification\"  # Replace with your desired directory\n",
    "        # remove .zip from file_path\n",
    "        file_path = file_path[:-4]\n",
    "        zip_ref.extractall(temp_extract_dir)\n",
    "        try:\n",
    "            db_dir = os.path.join(temp_extract_dir, file_path)\n",
    "            db3 = Chroma(persist_directory=db_dir)\n",
    "            ids = db3.get()\n",
    "            ids['ids'][0]\n",
    "            metadata = db3.get(ids['ids'][0])['metadatas']\n",
    "            metadatakeys = list(metadata[0].keys()) \n",
    "            return metadatakeys\n",
    "        # Return error:\n",
    "        except:\n",
    "            return \"Error: File is not a valid Chroma database\"\n",
    "\n",
    "    # Clean up (remove the extracted files)\n",
    "    # Make sure to handle exceptions and possible errors in a production environment\n",
    "    os.remove(temp_extract_dir)\n"
   ]
  },
  {
   "cell_type": "code",
   "execution_count": 13,
   "metadata": {},
   "outputs": [],
   "source": [
    "output = verify_chroma_db(\"loplabbet.zip\")"
   ]
  },
  {
   "cell_type": "code",
   "execution_count": 16,
   "metadata": {},
   "outputs": [
    {
     "name": "stdout",
     "output_type": "stream",
     "text": [
      "Error: File is not a valid Chroma database\n"
     ]
    }
   ],
   "source": [
    "if output != 'Error: File is not a valid Chroma database':\n",
    "    print(\"hurra\")\n",
    "else:\n",
    "    print(output)"
   ]
  },
  {
   "cell_type": "code",
   "execution_count": 19,
   "metadata": {},
   "outputs": [],
   "source": [
    "# Generate a sample dict that is metadata\n",
    "dict = {'Metad': 1, 'b': 2, 'c': 3}"
   ]
  },
  {
   "cell_type": "code",
   "execution_count": 28,
   "metadata": {},
   "outputs": [],
   "source": [
    "ids = db3.get()\n",
    "ids['ids'][0]\n",
    "metadata = db3.get(ids['ids'][0])['metadatas']\n",
    "metadata[0].keys()"
   ]
  },
  {
   "cell_type": "code",
   "execution_count": 43,
   "metadata": {},
   "outputs": [
    {
     "data": {
      "text/plain": [
       "dict_keys(['category', 'link', 'title'])"
      ]
     },
     "execution_count": 43,
     "metadata": {},
     "output_type": "execute_result"
    }
   ],
   "source": [
    "metadata[0].keys()"
   ]
  },
  {
   "cell_type": "code",
   "execution_count": null,
   "metadata": {},
   "outputs": [],
   "source": []
  }
 ],
 "metadata": {
  "kernelspec": {
   "display_name": "Python 3",
   "language": "python",
   "name": "python3"
  },
  "language_info": {
   "codemirror_mode": {
    "name": "ipython",
    "version": 3
   },
   "file_extension": ".py",
   "mimetype": "text/x-python",
   "name": "python",
   "nbconvert_exporter": "python",
   "pygments_lexer": "ipython3",
   "version": "3.10.10"
  }
 },
 "nbformat": 4,
 "nbformat_minor": 2
}
